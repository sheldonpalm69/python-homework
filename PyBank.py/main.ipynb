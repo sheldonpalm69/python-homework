{
 "cells": [
  {
   "cell_type": "code",
   "execution_count": null,
   "metadata": {},
   "outputs": [],
   "source": [
    "# Financial Analysis PyBank\n",
    "# By Sheldon Palm"
   ]
  },
  {
   "cell_type": "code",
   "execution_count": 8,
   "metadata": {},
   "outputs": [],
   "source": [
    "import pandas as pd"
   ]
  },
  {
   "cell_type": "code",
   "execution_count": 13,
   "metadata": {},
   "outputs": [
    {
     "name": "stdout",
     "output_type": "stream",
     "text": [
      "        Date  Profit/Losses\n",
      "0   Jan-2010         867884\n",
      "1   Feb-2010         984655\n",
      "2   Mar-2010         322013\n",
      "3   Apr-2010         -69417\n",
      "4   May-2010         310503\n",
      "..       ...            ...\n",
      "81  Oct-2016         102685\n",
      "82  Nov-2016         795914\n",
      "83  Dec-2016          60988\n",
      "84  Jan-2017         138230\n",
      "85  Feb-2017         671099\n",
      "\n",
      "[86 rows x 2 columns]\n"
     ]
    }
   ],
   "source": [
    "import pandas as pd\n",
    "\n",
    "df = pd.read_csv(\"budget_data.csv\")\n",
    "\n",
    "print(df) "
   ]
  },
  {
   "cell_type": "code",
   "execution_count": 14,
   "metadata": {},
   "outputs": [
    {
     "data": {
      "text/plain": [
       "Date             86\n",
       "Profit/Losses    86\n",
       "dtype: int64"
      ]
     },
     "execution_count": 14,
     "metadata": {},
     "output_type": "execute_result"
    }
   ],
   "source": [
    "# The total number of months included in the dataset.\n",
    "# Count Data Rows\n",
    "df.count()"
   ]
  },
  {
   "cell_type": "code",
   "execution_count": 15,
   "metadata": {},
   "outputs": [
    {
     "data": {
      "text/html": [
       "<div>\n",
       "<style scoped>\n",
       "    .dataframe tbody tr th:only-of-type {\n",
       "        vertical-align: middle;\n",
       "    }\n",
       "\n",
       "    .dataframe tbody tr th {\n",
       "        vertical-align: top;\n",
       "    }\n",
       "\n",
       "    .dataframe thead th {\n",
       "        text-align: right;\n",
       "    }\n",
       "</style>\n",
       "<table border=\"1\" class=\"dataframe\">\n",
       "  <thead>\n",
       "    <tr style=\"text-align: right;\">\n",
       "      <th></th>\n",
       "      <th>Profit/Losses</th>\n",
       "    </tr>\n",
       "  </thead>\n",
       "  <tbody>\n",
       "    <tr>\n",
       "      <th>count</th>\n",
       "      <td>8.600000e+01</td>\n",
       "    </tr>\n",
       "    <tr>\n",
       "      <th>mean</th>\n",
       "      <td>4.463090e+05</td>\n",
       "    </tr>\n",
       "    <tr>\n",
       "      <th>std</th>\n",
       "      <td>5.363579e+05</td>\n",
       "    </tr>\n",
       "    <tr>\n",
       "      <th>min</th>\n",
       "      <td>-1.196225e+06</td>\n",
       "    </tr>\n",
       "    <tr>\n",
       "      <th>25%</th>\n",
       "      <td>1.821620e+05</td>\n",
       "    </tr>\n",
       "    <tr>\n",
       "      <th>50%</th>\n",
       "      <td>5.703280e+05</td>\n",
       "    </tr>\n",
       "    <tr>\n",
       "      <th>75%</th>\n",
       "      <td>7.952262e+05</td>\n",
       "    </tr>\n",
       "    <tr>\n",
       "      <th>max</th>\n",
       "      <td>1.170593e+06</td>\n",
       "    </tr>\n",
       "  </tbody>\n",
       "</table>\n",
       "</div>"
      ],
      "text/plain": [
       "       Profit/Losses\n",
       "count   8.600000e+01\n",
       "mean    4.463090e+05\n",
       "std     5.363579e+05\n",
       "min    -1.196225e+06\n",
       "25%     1.821620e+05\n",
       "50%     5.703280e+05\n",
       "75%     7.952262e+05\n",
       "max     1.170593e+06"
      ]
     },
     "execution_count": 15,
     "metadata": {},
     "output_type": "execute_result"
    }
   ],
   "source": [
    "# Describe Data for confirmation of the Read Function\n",
    "df.describe()"
   ]
  },
  {
   "cell_type": "code",
   "execution_count": 16,
   "metadata": {},
   "outputs": [],
   "source": [
    "# Define Data Frames for Calculations\n",
    "mean1 = df['Profit/Losses'].mean()\n",
    "sum1 = df['Profit/Losses'].sum()\n",
    "max1 = df['Profit/Losses'].max()\n",
    "min1 = df['Profit/Losses'].min()\n",
    "count1 = df['Profit/Losses'].count()\n",
    "median1 = df['Profit/Losses'].median() \n"
   ]
  },
  {
   "cell_type": "code",
   "execution_count": 17,
   "metadata": {},
   "outputs": [],
   "source": [
    "# The average of the changes in Profit/Losses over the entire period.\n",
    "# For this Calculations additional Columns are shifted to isolate Profits/Losses\n",
    "\n",
    "df['shifted_column'] = df['Profit/Losses'].shift(1)\n"
   ]
  },
  {
   "cell_type": "code",
   "execution_count": 18,
   "metadata": {},
   "outputs": [
    {
     "name": "stdout",
     "output_type": "stream",
     "text": [
      "        Date  Profit/Losses  shifted_column\n",
      "0   Jan-2010         867884             NaN\n",
      "1   Feb-2010         984655        867884.0\n",
      "2   Mar-2010         322013        984655.0\n",
      "3   Apr-2010         -69417        322013.0\n",
      "4   May-2010         310503        -69417.0\n",
      "..       ...            ...             ...\n",
      "81  Oct-2016         102685        768450.0\n",
      "82  Nov-2016         795914        102685.0\n",
      "83  Dec-2016          60988        795914.0\n",
      "84  Jan-2017         138230         60988.0\n",
      "85  Feb-2017         671099        138230.0\n",
      "\n",
      "[86 rows x 3 columns]\n"
     ]
    }
   ],
   "source": [
    "# Print Data Frame to confirm extra column was shifted\n",
    "\n",
    "print(df)\n"
   ]
  },
  {
   "cell_type": "code",
   "execution_count": 19,
   "metadata": {},
   "outputs": [],
   "source": [
    "# Calculation for Data Frame Difference in Profit/Losses\n",
    "df['difference'] = df['Profit/Losses'] - df['shifted_column']"
   ]
  },
  {
   "cell_type": "code",
   "execution_count": 20,
   "metadata": {},
   "outputs": [],
   "source": [
    "# Define Maximum Profit\n",
    "maximun= df['difference'].max()"
   ]
  },
  {
   "cell_type": "code",
   "execution_count": 21,
   "metadata": {},
   "outputs": [
    {
     "name": "stdout",
     "output_type": "stream",
     "text": [
      "Greatest Decrease in Profits: -2196167.0\n"
     ]
    }
   ],
   "source": [
    "# Define Minimum Profit/Losses\n",
    "minimum = df['difference'].min()\n",
    "print ('Greatest Decrease in Profits: ' + str(minimum))"
   ]
  },
  {
   "cell_type": "code",
   "execution_count": 22,
   "metadata": {},
   "outputs": [
    {
     "name": "stdout",
     "output_type": "stream",
     "text": [
      "Average Change: -2315.1176470588234\n"
     ]
    }
   ],
   "source": [
    "average = df['difference'].mean()\n",
    "print ('Average Change: ' + str(average))"
   ]
  },
  {
   "cell_type": "code",
   "execution_count": 23,
   "metadata": {},
   "outputs": [
    {
     "name": "stdout",
     "output_type": "stream",
     "text": [
      "Greatest Increase in Profits: 1926159.0\n"
     ]
    }
   ],
   "source": [
    "# Define Greatest Increase \n",
    "print ('Greatest Increase in Profits: ' + str(maximun))"
   ]
  },
  {
   "cell_type": "code",
   "execution_count": 24,
   "metadata": {},
   "outputs": [
    {
     "name": "stdout",
     "output_type": "stream",
     "text": [
      "Total Months: 86\n"
     ]
    }
   ],
   "source": [
    "# Create Date Function to Calculate total months of Data Frame\n",
    "df['FullDate'] = pd.to_datetime(df['Date'])\n",
    "df['Year'] = pd.DatetimeIndex(df['FullDate']).year\n",
    "df['Month'] = pd.DatetimeIndex(df['FullDate']).month\n",
    "df['MonthYear'] = pd.to_datetime(df['FullDate']).dt.to_period('M')\n",
    "print (\"Total Months:\" ,df['Date'].nunique())"
   ]
  },
  {
   "cell_type": "code",
   "execution_count": 25,
   "metadata": {},
   "outputs": [
    {
     "name": "stdout",
     "output_type": "stream",
     "text": [
      "0     Greatest Decrease in Profits: Jan-2010-2196167.0\n",
      "1     Greatest Decrease in Profits: Feb-2010-2196167.0\n",
      "2     Greatest Decrease in Profits: Mar-2010-2196167.0\n",
      "3     Greatest Decrease in Profits: Apr-2010-2196167.0\n",
      "4     Greatest Decrease in Profits: May-2010-2196167.0\n",
      "                            ...                       \n",
      "81    Greatest Decrease in Profits: Oct-2016-2196167.0\n",
      "82    Greatest Decrease in Profits: Nov-2016-2196167.0\n",
      "83    Greatest Decrease in Profits: Dec-2016-2196167.0\n",
      "84    Greatest Decrease in Profits: Jan-2017-2196167.0\n",
      "85    Greatest Decrease in Profits: Feb-2017-2196167.0\n",
      "Name: Date, Length: 86, dtype: object\n"
     ]
    }
   ],
   "source": [
    "# Added Date Function to Data Frame\n",
    "minimum = df['difference'].min()\n",
    "print ('Greatest Decrease in Profits: ' + df['Date'] + str(minimum))"
   ]
  },
  {
   "cell_type": "code",
   "execution_count": 26,
   "metadata": {},
   "outputs": [
    {
     "name": "stdout",
     "output_type": "stream",
     "text": [
      "Greatest Decrease in Profits: Sep-2013 ($-2196167)\n",
      "Greatest Increase in Profits: Feb-2012 ($1926159)\n"
     ]
    }
   ],
   "source": [
    "# Final Assements for analyses Execution\n",
    "print(\"Greatest Decrease in Profits: \" +df['Date'][df['difference'] == df['difference'].min()].iloc[0]+ \" ($\"+str(int(df['difference'].min()))+\")\")\n",
    "print(\"Greatest Increase in Profits: \" +df['Date'][df['difference'] == df['difference'].max()].iloc[0]+ \" ($\"+str(int(df['difference'].max()))+\")\")\n"
   ]
  },
  {
   "cell_type": "code",
   "execution_count": 32,
   "metadata": {},
   "outputs": [],
   "source": [
    "# Analysis Summary PyBank\n",
    "\n",
    "print(\"Financial Analysis PyBank\", file=open(\"summarybank.txt\", \"a\"))\n",
    "print(\"----------------------------\", file=open(\"summarybank.txt\", \"a\"))\n",
    "print (\"Total Months:\" ,df['Date'].nunique(), file=open(\"summarybank.txt\", \"a\"))\n",
    "print(\"Total: $\"+str(df['Profit/Losses'].sum()), file=open(\"summarybank.txt\", \"a\"))\n",
    "print(\"Average Change: $\"+str(round(df['difference'].mean(),2)), file=open(\"summarybank.txt\", \"a\"))\n",
    "print(\"Greatest Increase in Profits: \" +df['Date'][df['difference'] == df['difference'].max()].iloc[0]+ \" ($\"+str(int(df['difference'].max()))+\")\", file=open(\"summarybank.txt\", \"a\"))\n",
    "print(\"Greatest Increase in Profits: \" +df['Date'][df['difference'] == df['difference'].min()].iloc[0]+ \" ($\"+str(int(df['difference'].min()))+\")\", file=open(\"summarybank.txt\", \"a\"))\n"
   ]
  }
 ],
 "metadata": {
  "kernelspec": {
   "display_name": "Python 3",
   "language": "python",
   "name": "python3"
  },
  "language_info": {
   "codemirror_mode": {
    "name": "ipython",
    "version": 3
   },
   "file_extension": ".py",
   "mimetype": "text/x-python",
   "name": "python",
   "nbconvert_exporter": "python",
   "pygments_lexer": "ipython3",
   "version": "3.8.5"
  }
 },
 "nbformat": 4,
 "nbformat_minor": 4
}
